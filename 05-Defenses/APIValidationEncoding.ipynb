{
 "cells": [
  {
   "cell_type": "markdown",
   "metadata": {},
   "source": [
    "## Overview\n",
    "\n",
    "This lab will use *flask* to create a simple web application.  The application will have a simple API that processes a request parameter and echoes it back to the user.  \n",
    "\n",
    "Initially, the application is susceptible to a reflected XSS attack.  \n"
   ]
  },
  {
   "cell_type": "markdown",
   "metadata": {},
   "source": [
    "### Step 1: Create a simple web application\n",
    "Create and run a simple web application.\n",
    "\n",
    "> **Note**: The application will be running on port 5000.  The cell will run forever, so you will need to interrupt the kernel to stop the application.\n",
    "\n",
    "```python\n",
    "from flask import Flask, request\n",
    "\n",
    "app = Flask(__name__)\n",
    "@app.route(\"/\")\n",
    "def say_hello():\n",
    "    your_name = request.args.get('name')\n",
    "    return \"Hello %s\" % your_name\n",
    "```\n",
    "Add this code to the cell below and run it."
   ]
  },
  {
   "cell_type": "code",
   "execution_count": 2,
   "metadata": {},
   "outputs": [],
   "source": []
  },
  {
   "cell_type": "markdown",
   "metadata": {},
   "source": [
    "Now, run the applicationm.  Remember, the application will run forever, so you will need to interrupt the kernel to stop the application.\n",
    "\n",
    "```python\n",
    "app.run()\n",
    "```\n",
    "Add this code to the cell below and run it."
   ]
  },
  {
   "cell_type": "code",
   "execution_count": null,
   "metadata": {},
   "outputs": [],
   "source": []
  },
  {
   "cell_type": "markdown",
   "metadata": {},
   "source": [
    "Now, open a browser and navigate to `http://localhost:5000/?name=world`.  You should see the message `Hello world` displayed in the browser.\n",
    "\n",
    "### Step 2: Reflected XSS attack\n",
    "Now, let's see how the application is susceptible to a reflected XSS attack.  In the browser, navigate to `http://localhost:5000/?name=<script>alert('XSS')</script>`.  You should see an alert box displayed in the browser."
   ]
  },
  {
   "cell_type": "markdown",
   "metadata": {},
   "source": [
    "### Step 3: Fix the reflected XSS attack\n",
    "To fix the reflected XSS attack, we need to escape the user input.  Modify the code to escape the user input.\n",
    "\n",
    "```python\n",
    "from flask import Flask, request\n",
    "from markupsafe import escape\n",
    "\n",
    "app = Flask(__name__)\n",
    "@app.route(\"/\")\n",
    "def say_hello():\n",
    "    your_name = request.args.get('name')\n",
    "    return \"Hello %s\" % escape(your_name)\n",
    "app.run()\n",
    "```\n",
    "Modify the code in the previous code cell to escape the user input and rerun the application."
   ]
  },
  {
   "cell_type": "markdown",
   "metadata": {},
   "source": [
    "Now, the hostile script is simply echoed back to the user, rather than being executed.  We should also validate the input to ensure that it is safe to use.  We can use the `re` module to validate the input.\n",
    "\n",
    "```python\n",
    "import re\n",
    "from flask import Flask, request\n",
    "from markupsafe import escape\n",
    "\n",
    "app = Flask(__name__)\n",
    "@app.route(\"/\")\n",
    "def say_hello():\n",
    "    your_name = request.args.get('name')\n",
    "    if re.match(\"^[a-zA-Z0-9]*$\", your_name):\n",
    "        return \"Hello %s\" % escape(your_name)\n",
    "    else:\n",
    "        return \"Invalid input\"\n",
    "app.run()\n",
    "```\n",
    "\n",
    "Modify the code in the previous code cell to validate the input and rerun the application."
   ]
  }
 ],
 "metadata": {
  "kernelspec": {
   "display_name": ".venv",
   "language": "python",
   "name": "python3"
  },
  "language_info": {
   "codemirror_mode": {
    "name": "ipython",
    "version": 3
   },
   "file_extension": ".py",
   "mimetype": "text/x-python",
   "name": "python",
   "nbconvert_exporter": "python",
   "pygments_lexer": "ipython3",
   "version": "3.10.0"
  }
 },
 "nbformat": 4,
 "nbformat_minor": 2
}
