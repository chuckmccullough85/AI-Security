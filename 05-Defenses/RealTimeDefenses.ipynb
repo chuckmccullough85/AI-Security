{
 "cells": [
  {
   "cell_type": "markdown",
   "metadata": {},
   "source": [
    "## Real Time Defense\n",
    "### A Supervised Learning Approach to Detecting Malicious Network Traffic\n",
    "\n",
    "With this simple example, we will use a database of IP addresses that have been labeled as malicious or benign to train a model that can predict if a new IP address is malicious or benign.\n",
    "\n",
    "Let's start with the imports:\n"
   ]
  },
  {
   "cell_type": "code",
   "execution_count": 1,
   "metadata": {},
   "outputs": [],
   "source": [
    "from datetime import time, date, datetime, timedelta\n",
    "import csv\n",
    "import random\n",
    "from collections import Counter\n",
    "import pandas as pd\n",
    "import numpy as np\n",
    "from sklearn.ensemble import RandomForestClassifier\n",
    "from sklearn.metrics import accuracy_score"
   ]
  },
  {
   "cell_type": "markdown",
   "metadata": {},
   "source": [
    "### A log generator\n",
    "The following cell defines a function that generates log entries with IP addresses labeled as benign or malicious.\n",
    "\n",
    "The function parameters have default values that we can override to try different scenarios.\n",
    "- values - the number of entries to create\n",
    "- benignIP - a vector of benign IP addresses\n",
    "- hackerIP - a vector of hacker IP addresses\n",
    "- apiEntries - a vector of API entries\n",
    "- bias - the probability of generating a malicious IP address\n",
    "- outlier - denominator on when to generate an outlier\n",
    "\n",
    "The general idea of the function is that hackers tend to focus more on obscure APIs as they are more likely to contain bugs that can be exploited.\n",
    "\n",
    "Review and execute the following cell to define the log generator function.\n"
   ]
  },
  {
   "cell_type": "code",
   "execution_count": 2,
   "metadata": {},
   "outputs": [],
   "source": [
    "def CreateAPITraffic(\n",
    "    values = 5000,\n",
    "    benignIP = ['172:144:0:22', '172:144:0:23', \n",
    "                '172:144:0:24', '172:144:0:25',\n",
    "                '172:144:0:26', '172:144:0:27'],\n",
    "    hackerIP = ['175:144:22:2', '175:144:22:3',\n",
    "                '175:144:22:4', '175:144:22:5',\n",
    "                '175:144:22:6', '175:144:22:7'],\n",
    "    apiEntries = ['Rarely', 'Sometimes', 'Regularly'],\n",
    "    bias = .8, \n",
    "    outlier = 50):\n",
    "    \n",
    "    # Define the variables needed to perform tasks within\n",
    "    # the function. You use data to hold the actual log entries\n",
    "    # for return to the caller. The currTime and updateTime \n",
    "    # variables help create the log’s time entries. The selectedIP\n",
    "    # variable holds one of the IP addresses provided as part of\n",
    "    # benignIP or hackerIP arguments and is the IP address added to\n",
    "    # the current log entry. The threshold determines the split\n",
    "    # between benign and hacker log entries. The hackerCount and \n",
    "    # benignCount variables specify how many of each entry type\n",
    "    # appears in the log.\n",
    "    data = []\n",
    "    currTime = time(0, 0, 0)\n",
    "    updateTime = timedelta(seconds = 1)\n",
    "    selectedIP = \"\"\n",
    "    threshold = (len(apiEntries) * 2) - \\\n",
    "        (len(apiEntries) * 2 * bias)\n",
    "    hackerCount = 0\n",
    "    benignCount = 0\n",
    "\n",
    "    # A loop for generating entries comes next. This code begins\n",
    "    # by defining the time element of an individual log entry.\n",
    "    for x in range(values):\n",
    "        currTime = (datetime.combine(date.today(), \n",
    "                                     currTime)\n",
    "                    + updateTime).time()\n",
    "        \n",
    "        # Selecting an API entry comes next.\n",
    "        apiChoice = random.choice(apiEntries)\n",
    "        \n",
    "        # Determine which IP address to use for the data entry.\n",
    "        # The CreateAPITraffic() function uses a combination of\n",
    "        # approaches to make the determination based on the assumption\n",
    "        # that the hacker will select less commonly used API calls to \n",
    "        # attack because these calls are more likely to contain bugs,\n",
    "        # which is where threshold comes into play. However, it’s also\n",
    "        # important to include a certain amount of noise in the form of\n",
    "        # outliers as part of the dataset. This example uses hackerCount\n",
    "        # as a means of determining when to create an outlier.\n",
    "        choiceIndex = apiEntries.index(apiChoice) + 1\n",
    "        randSelect = choiceIndex * \\\n",
    "            random.randint(1, len(apiEntries)) * bias\n",
    "        if hackerCount % outlier == 0:\n",
    "            selectedIP = random.choice(hackerIP)\n",
    "        else:\n",
    "            if randSelect >= threshold:\n",
    "                selectedIP = random.choice(benignIP)\n",
    "            else:\n",
    "                selectedIP = random.choice(hackerIP)\n",
    "        \n",
    "        # Each entry is appended to data in turn. In addition, the code\n",
    "        # also tracks whether the entry is a hacker or a benign entry.\n",
    "        data.append([currTime.strftime(\"%H:%M:%S\"), \n",
    "                     selectedIP, apiChoice])\n",
    "        if selectedIP in hackerIP:\n",
    "            hackerCount += 1\n",
    "        else:\n",
    "            benignCount += 1\n",
    "    \n",
    "    return (threshold, benignCount, hackerCount, data)"
   ]
  },
  {
   "cell_type": "markdown",
   "metadata": {},
   "source": [
    "---\n",
    "\n",
    "Next, we will persist the generated logs to a csv file.  The following function does that.  Review and execute the following cell to define the function."
   ]
  },
  {
   "cell_type": "code",
   "execution_count": 3,
   "metadata": {},
   "outputs": [],
   "source": [
    "def SaveDataToCSV(data = [], fields = [], \n",
    "                  filename = \"test.csv\"):\n",
    "    with open(filename, 'w', newline='') as file:\n",
    "        write = csv.writer(file, delimiter=',')\n",
    "        write.writerow(fields)\n",
    "        write.writerows(data)"
   ]
  },
  {
   "cell_type": "markdown",
   "metadata": {},
   "source": [
    "---\n",
    "\n",
    "### Generate Data\n",
    "Now, let's create some API entries and IP addresses to use in our simulation.  We will use the following vectors to generate the logs.\n",
    "\n",
    "Review and execute the following cell to define the vectors."
   ]
  },
  {
   "cell_type": "code",
   "execution_count": 4,
   "metadata": {},
   "outputs": [],
   "source": [
    "callNames = ['Rarely', \n",
    "             'Sometimes1', 'Sometimes2',\n",
    "             'Regularly1', 'Regularly2', 'Regularly3',\n",
    "             'Often1', 'Often2', 'Often3', 'Often4', \n",
    "             'Often5', 'Often6', 'Often7', 'Often8']\n",
    "benignIPs = ['172:144:0:22', '172:144:0:23', \n",
    "             '172:144:0:24', '172:144:0:25', \n",
    "             '172:144:0:26', '172:144:0:27',\n",
    "             '172:144:0:28', '172:144:0:29', \n",
    "             '172:144:0:30', '172:144:0:31',\n",
    "             '172:144:0:32', '172:144:0:33',\n",
    "             '172:144:0:34', '172:144:0:35',\n",
    "             '172:144:0:36', '172:144:0:37']"
   ]
  },
  {
   "cell_type": "markdown",
   "metadata": {},
   "source": [
    "### Generate a log\n",
    "Now, let's generate a log with 10,000 entries using the vecors above.\n",
    "\n",
    "Review and execute the following cell to generate the log."
   ]
  },
  {
   "cell_type": "code",
   "execution_count": null,
   "metadata": {},
   "outputs": [],
   "source": [
    "random.seed(52)\n",
    "threshold, benignCount, hackerCount, data = \\\n",
    "    CreateAPITraffic(values=10000, \n",
    "                     benignIP=benignIPs, \n",
    "                     apiEntries=callNames)\n",
    "print(f\"There are {benignCount} benign entries \" \\\n",
    "      f\"and {hackerCount} hacker entries \" \\\n",
    "      f\"with a threshold of {threshold}.\")\n",
    "fields = ['Time', 'IP_Address', 'API_Call']\n",
    "SaveDataToCSV(data, fields, \"CallData.csv\")"
   ]
  },
  {
   "cell_type": "markdown",
   "metadata": {},
   "source": [
    "### Preparing the data\n",
    "Now that we have the log, let's prepare the data for training the model.\n",
    "\n",
    "First, review the `CallData.csv` file to understand the data structure.\n",
    "\n",
    "Now, let's load the data and label it as malicious or benign.\n",
    "Review and execute the code in the cell below to load the data and label it."
   ]
  },
  {
   "cell_type": "code",
   "execution_count": 6,
   "metadata": {},
   "outputs": [],
   "source": [
    "def ReadDataFromCSV(filename=\"test.csv\"):\n",
    "    logData = pd.read_csv(filename)\n",
    "    \n",
    "    # Obtain a listing of the unique API calls found in the file.\n",
    "    calls = np.unique(np.array(logData['API_Call']))\n",
    "    \n",
    "    # Aggregate the data using the IP_Address as the means\n",
    "    # for determining how to group the entries and API_Call\n",
    "    # as the means to determine which column to use for aggregation.\n",
    "    aggData = logData.groupby(\n",
    "        'IP_Address')['API_Call'].agg(list)\n",
    "    \n",
    "    # Create a DataFrame to hold the data to analyze later.\n",
    "    # Begin labelling the data based on its IP address.\n",
    "    analysisEntries = {}\n",
    "    analysisData = pd.DataFrame(columns=calls)\n",
    "    for ipIndex, ipEntry in zip(aggData.index, aggData):\n",
    "        ipEntry.sort()\n",
    "        if ipIndex[0:3] == '172':\n",
    "            values = [0]\n",
    "        else:\n",
    "            values = [1]\n",
    "        \n",
    "        # Create columns for the DataFrame based on the API calls.\n",
    "        keys = ['Benign']\n",
    "        for callType in calls:\n",
    "            keys.append(callType)\n",
    "            values.append(ipEntry.count(callType))\n",
    "        \n",
    "        # Define each row of the DataFrame using the number of calls\n",
    "        # from the IP address in question as the values for each column.\n",
    "        analysisEntries[ipIndex] = pd.Series(values,\n",
    "                                             index=keys)\n",
    "    \n",
    "    # Create the DataFrame and return it to the caller.\n",
    "    analysisData = pd.DataFrame(analysisEntries)\n",
    "    return (analysisData, calls)"
   ]
  },
  {
   "cell_type": "markdown",
   "metadata": {},
   "source": [
    "--- \n",
    "\n",
    "Now, load the csv and review the dataframe returned from our function by running the cell below:"
   ]
  },
  {
   "cell_type": "code",
   "execution_count": null,
   "metadata": {},
   "outputs": [],
   "source": [
    "analysisData, calls = ReadDataFromCSV(\"CallData.csv\")\n",
    "print(analysisData)"
   ]
  },
  {
   "cell_type": "code",
   "execution_count": null,
   "metadata": {},
   "outputs": [],
   "source": [
    "X = np.array(analysisData[1:len(calls)+1]).T\n",
    "print(X)\n",
    "y = analysisData[0:1]\n",
    "print(y)\n",
    "y = y.values.ravel()\n",
    "print(y)"
   ]
  },
  {
   "cell_type": "markdown",
   "metadata": {},
   "source": [
    "---\n",
    "\n",
    "The data prep took some steps for this example.  In the real world, it would be more complex.  For example, we would need to handle missing data, normalize the data, and encode categorical data.\n",
    "\n",
    "### Train the model\n",
    "Let's use a RandomForestClassifier to train the model."
   ]
  },
  {
   "cell_type": "code",
   "execution_count": null,
   "metadata": {},
   "outputs": [],
   "source": [
    "clf=RandomForestClassifier()\n",
    "clf.fit(X,y)\n"
   ]
  },
  {
   "cell_type": "markdown",
   "metadata": {},
   "source": [
    "Now, let's generate some test data using a different seed and our CreateAPITraffic function.\n",
    "\n",
    "Review and execute the following cell to generate the test data."
   ]
  },
  {
   "cell_type": "code",
   "execution_count": null,
   "metadata": {},
   "outputs": [],
   "source": [
    "random.seed(19)\n",
    "threshold, benignCount, hackerCount, data = \\\n",
    "    CreateAPITraffic(benignIP=benignIPs, \n",
    "                     apiEntries=callNames, \n",
    "                     bias=.95, outlier=15)\n",
    "print(f\"There are {benignCount} benign entries \" \\\n",
    "      f\"and {hackerCount} hacker entries \" \\\n",
    "      f\"with a threshold of {threshold}.\")\n",
    "fields = ['Time', 'IP_Address', 'API_Call']\n",
    "SaveDataToCSV(data, fields, \"TestData.csv\")"
   ]
  },
  {
   "cell_type": "markdown",
   "metadata": {},
   "source": [
    "---\n",
    "\n",
    "Now, load and check the test data by running the cell below:\n"
   ]
  },
  {
   "cell_type": "code",
   "execution_count": null,
   "metadata": {},
   "outputs": [],
   "source": [
    "testData, testCalls = ReadDataFromCSV(\"TestData.csv\")\n",
    "X_test = np.array(testData[1:len(calls)+1]).T\n",
    "y_test = testData[0:1].values.ravel()\n",
    "y_pred = clf.predict(X_test)\n",
    "print('Accuracy: %.3f' % accuracy_score(y_test, y_pred))"
   ]
  }
 ],
 "metadata": {
  "kernelspec": {
   "display_name": ".venv",
   "language": "python",
   "name": "python3"
  },
  "language_info": {
   "codemirror_mode": {
    "name": "ipython",
    "version": 3
   },
   "file_extension": ".py",
   "mimetype": "text/x-python",
   "name": "python",
   "nbconvert_exporter": "python",
   "pygments_lexer": "ipython3",
   "version": "3.10.0"
  }
 },
 "nbformat": 4,
 "nbformat_minor": 2
}
