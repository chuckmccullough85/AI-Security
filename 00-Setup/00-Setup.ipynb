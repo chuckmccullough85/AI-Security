{
 "cells": [
  {
   "cell_type": "markdown",
   "metadata": {},
   "source": [
    "# Getting Started with Visual Studio Code and Jupyter Notebooks\n",
    "This guide will help you set up the required python packages used in the course.  We will be using a virtual python environment in order to keep the packages separate from other python installations on your computer.  This will help prevent conflicts between packages.\n",
    "\n",
    "## Step 1: Create a virtual environment\n",
    "1. Open the command palette in Visual Studio Code by pressing `Ctrl+Shift+P` or *View/Command Palette* and type `Python: Create Environment...`.\n",
    "2. Select `Venv` from the list of options. ![](../Images/venv.png)\n",
    "3. Select Python 3.10.0 from the list of python versions. If this is not available, please refer to the setup guide for installing python.\n",
    "4. Choose `requirements.txt` for the dependencies file. ![](../Images/dependencies.png)\n",
    "5. Click OK\n",
    "The packages will be downloaded and installed into the .venv folder in your project directory.  This process may take a few minutes.\n",
    "\n",
    "\n",
    "## Step 2: Verify your installation\n",
    "- The first time you open a notebook (.ipynb), you will need to select the kernel to use for the notebook.  Click on the `Kernel` button on the top right and select *Python Environments* then *.venv (Python 3.10)*  ![image](../Images/venvkernel.png)  \n",
    "- Select the Python 3.10.0 kernel.\n",
    "\n",
    "![](Images/runcell.png)"
   ]
  },
  {
   "cell_type": "markdown",
   "metadata": {},
   "source": [
    "# Very important!!!\n",
    "After the cell above executes *successfully*, **restart the kernel**.  This is done by clicking the *Restart* button at top of the notebook.  This is necessary to ensure that the newly installed packages are available to the notebook.\n",
    "\n",
    "Hover your mouse over the cell below and click the play button to run the cell.  If the cell runs without error, you are ready to start the course.\n",
    "![](Images/runcell.png)"
   ]
  },
  {
   "cell_type": "code",
   "execution_count": null,
   "metadata": {},
   "outputs": [],
   "source": [
    "%%python -V\n",
    "\n"
   ]
  },
  {
   "cell_type": "markdown",
   "metadata": {},
   "source": [
    "^ should display Python 3.10.0"
   ]
  },
  {
   "cell_type": "code",
   "execution_count": null,
   "metadata": {},
   "outputs": [],
   "source": [
    "import pandas\n",
    "import numpy\n",
    "import secml\n",
    "import sklearn\n",
    "import matplotlib\n",
    "\n",
    "print(\"All libraries are installed\")"
   ]
  },
  {
   "cell_type": "markdown",
   "metadata": {},
   "source": [
    "If successful, the output will show **All libraries are installed**.  If you see any errors, check that you have access to python.org, pypi.org, and github.com.\n",
    "\n",
    "We will be installing additional packages as needed throughout the course."
   ]
  },
  {
   "cell_type": "markdown",
   "metadata": {},
   "source": [
    "## Using Notebooks in VS Code\n",
    "The course will be using Jupyter Notebooks in Visual Studio Code.  A notebook is a collection of cells containing code, markdown text, or commands.  The code cells can be executed individually or all at once.  The output of the code is displayed below the cell.  The markdown cells are used for text and can be formatted using markdown syntax.  The cells can be rearranged by dragging and dropping them to a new location.\n",
    "\n",
    "To run a cell, click the play button in the top right corner of the cell.  To run all cells, click the play button at the top of the notebook.  To stop execution of a cell, click the stop button next to the play button.\n",
    "\n",
    "To add a new cell, click the `+` button at the top of the notebook.  To change the type of cell, click the dropdown menu at the top of the notebook and select the desired type.\n",
    "\n",
    "For this course, we will only use *Python* and *Markdown* cells.  The markdown cells are in presentation mode, but you can add notes or comments to the cells by double-clicking on the cell or clicking the pencil icon at the top right of the cell.  You can also add additional markdown or code cells as needed.\n",
    "\n",
    "The `Clear All Outputs` button will clear all the output from the cells.  This is useful if you want to rerun the notebook from the beginning.\n",
    "\n",
    "The `Restart` button will restart python and clear all the variables from memory.  This is useful if you want to rerun the notebook from the beginning.\n",
    "\n",
    "Each notebook has it's own python environment with it's own variables.  Variables cell are visibile to the cells below them, but not above them.  This is useful for keeping the code organized and easy to follow."
   ]
  }
 ],
 "metadata": {
  "kernelspec": {
   "display_name": ".venv",
   "language": "python",
   "name": "python3"
  },
  "language_info": {
   "codemirror_mode": {
    "name": "ipython",
    "version": 3
   },
   "file_extension": ".py",
   "mimetype": "text/x-python",
   "name": "python",
   "nbconvert_exporter": "python",
   "pygments_lexer": "ipython3",
   "version": "3.10.0"
  }
 },
 "nbformat": 4,
 "nbformat_minor": 2
}
